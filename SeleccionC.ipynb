{
  "nbformat": 4,
  "nbformat_minor": 0,
  "metadata": {
    "colab": {
      "provenance": []
    },
    "kernelspec": {
      "name": "python3",
      "display_name": "Python 3"
    },
    "language_info": {
      "name": "python"
    }
  },
  "cells": [
    {
      "cell_type": "markdown",
      "source": [
        "A continuación, elaboraré un modelo de regresión múltiple que incluirá únicamente las variables seleccionadas mediante un proceso de selección hacia adelante y eliminación hacia atrás.\n",
        "\n",
        "\n",
        "\n",
        "*   \"acidezFija\". La acidez fija del vino, medida en gramos de ácido tartárico por decímetro cúbico.\n",
        "*   \"acidezVolatil\". La acidez volátil del vino, medida en gramos de ácido acético por decímetro cúbico.\n",
        "*   \"acidoCitrico\". Gramos de táctico cítrico por decímetro cúbico.\n",
        "*   \"azucarResidual\". Gramos de tácito cítrico por decímetro cúbico.\n",
        "*   \"cloruros\". Gramos de cloruro de sodio por decímetro cúbico.\n",
        "*   \"dioxidoAzufreLibre\".Miligramos de dióxido de azufre libre por decímetro cúbico.\n",
        "*   \"densidad\". Medida en gramos por centímetro cúbico.\n",
        "*   \"pH\". Valor del vino en la escla de pH.\n",
        "*   \"sulfatos\". Gramoms de sulfato de potasio por decímetro cúbico.\n",
        "*   \"alcohol\". Volúmen percentil de alcohol en el vino.\n",
        "*   \"calidad\". Mediana de la calidad otorgada por al menos tres catadores, en escala del 0 (muy malo) al 10 (excelente)\n",
        "\n",
        "\n",
        "\n",
        "\n",
        "\n",
        "\n",
        "\n",
        "\n",
        "\n",
        "\n",
        "\n"
      ],
      "metadata": {
        "id": "ZFe3D4MUWYXi"
      }
    },
    {
      "cell_type": "code",
      "execution_count": 34,
      "metadata": {
        "colab": {
          "base_uri": "https://localhost:8080/",
          "height": 0
        },
        "id": "_5nLbzDlR4XN",
        "outputId": "f4135a7d-106b-448e-ad54-f2280e5881fb"
      },
      "outputs": [
        {
          "output_type": "stream",
          "name": "stdout",
          "text": [
            "(1599, 12)\n",
            "   acidezFija  acidezVolatil  acidoCitrico  azucarResidual  cloruros  \\\n",
            "0         7.4           0.70          0.00             1.9     0.076   \n",
            "1         7.8           0.88          0.00             2.6     0.098   \n",
            "2         7.8           0.76          0.04             2.3     0.092   \n",
            "3        11.2           0.28          0.56             1.9     0.075   \n",
            "4         7.4           0.70          0.00             1.9     0.076   \n",
            "\n",
            "   dioxidoAzufreLibre  dioxidoAzufreTotal  densidad    pH  sulfatos  alcohol  \\\n",
            "0                11.0                34.0    0.9978  3.51      0.56      9.4   \n",
            "1                25.0                67.0    0.9968  3.20      0.68      9.8   \n",
            "2                15.0                54.0    0.9970  3.26      0.65      9.8   \n",
            "3                17.0                60.0    0.9980  3.16      0.58      9.8   \n",
            "4                11.0                34.0    0.9978  3.51      0.56      9.4   \n",
            "\n",
            "   calidad  \n",
            "0        5  \n",
            "1        5  \n",
            "2        5  \n",
            "3        6  \n",
            "4        5  \n"
          ]
        }
      ],
      "source": [
        "# primero importamos el Archivo Vino Tinto.csv\n",
        "import pandas as pd\n",
        "datos = pd.read_csv('A1.4 Vino Tinto.csv')\n",
        "print(datos.shape)\n",
        "print(datos.head(5))"
      ]
    },
    {
      "cell_type": "markdown",
      "source": [
        "A continuación, dividiré el DataFrame en dos conjuntos: uno de entrenamiento y otro de prueba, utilizando una proporción de 80/20. El 80% de los datos se destinarán al entrenamiento del modelo, mientras que el 20% restante se utilizará para su evaluación."
      ],
      "metadata": {
        "id": "leoZdSlUZpB9"
      }
    },
    {
      "cell_type": "code",
      "source": [
        "from sklearn.model_selection import train_test_split\n",
        "import statsmodels.api as sm\n",
        "train, test = train_test_split(datos, train_size =0.8) # Dividimos a una proporción de 80/20\n",
        "\n",
        "# Dividir los datos en conjuntos de entrenamiento y prueba\n",
        "X = datos.drop('calidad', axis=1)\n",
        "y = datos['calidad']\n",
        "\n",
        "# Se divide en datos de entrenamiento y prueba\n",
        "X_train, X_test, y_train, y_test = train_test_split(X, y,test_size=0.2)\n",
        "\n",
        "# Imprimimos las dimensiones de ambos conjuntos y verificamos que sumen la cantidad de datos original\n",
        "print(\" Dimensiones de conjunto de entrenamiento:\", train.shape)\n",
        "print(\" Dimensiones de conjunto de prueba:\", test.shape)\n",
        "print(\" Suma de dimensiones:\", train.shape[0] + test.shape[0])"
      ],
      "metadata": {
        "colab": {
          "base_uri": "https://localhost:8080/",
          "height": 0
        },
        "id": "f0rBgLl8botd",
        "outputId": "efc7e7da-a83e-49da-b99a-e70d9700c888"
      },
      "execution_count": 35,
      "outputs": [
        {
          "output_type": "stream",
          "name": "stdout",
          "text": [
            " Dimensiones de conjunto de entrenamiento: (1279, 12)\n",
            " Dimensiones de conjunto de prueba: (320, 12)\n",
            " Suma de dimensiones: 1599\n"
          ]
        }
      ]
    },
    {
      "cell_type": "markdown",
      "source": [
        "Después, utilizare la función SequentialFeatureSelector de la librería mlxtend.feature_selection, la cual  permitirá seleccionar las variables más importantes para construir nuestro modelo."
      ],
      "metadata": {
        "id": "AuDaHroyeb5Y"
      }
    },
    {
      "cell_type": "code",
      "source": [
        "# Importamos librerias necesarias\n",
        "from mlxtend.feature_selection import SequentialFeatureSelector as SFS\n",
        "from sklearn.linear_model import LinearRegression\n",
        "\n",
        "# A continuación creamos el modelo de regresión Lineal\n",
        "model = LinearRegression()\n",
        "\n",
        "# Despues realizaremos la selección hacia adelante\n",
        "# Use SFS instead of sf to call SequentialFeatureSelector\n",
        "sf = SFS(model,k_features=(2,8),forward=True,floating=False,scoring='r2',cv=10)\n",
        "  # Entre 2 y 8 caracteristicas  #Hacia adelante   #que no sea flotante    #Se usa R cuadrada como métrica\n",
        "\n",
        "# Se ajusta el modelo\n",
        "sf = sf.fit(X,y)\n",
        "\n",
        "# Y se obtienen las caracteristicas que se seleccionaron\n",
        "sf = sf.k_feature_names_\n",
        "print(\"Las caracteristicas de la seleccion (hacia adelante) son: \\n\",sf)\n"
      ],
      "metadata": {
        "colab": {
          "base_uri": "https://localhost:8080/",
          "height": 0
        },
        "id": "XmKm6xike67c",
        "outputId": "451628e3-9e83-4e11-f100-ea1051b298f3"
      },
      "execution_count": 36,
      "outputs": [
        {
          "output_type": "stream",
          "name": "stdout",
          "text": [
            "Las caracteristicas de la seleccion (hacia adelante) son: \n",
            " ('acidezVolatil', 'cloruros', 'dioxidoAzufreLibre', 'dioxidoAzufreTotal', 'pH', 'sulfatos', 'alcohol')\n"
          ]
        }
      ]
    },
    {
      "cell_type": "markdown",
      "source": [
        "A continuación, entrenaré un modelo de regresión lineal utilizando únicamente las características seleccionadas en el paso anterior. Luego, realizaré predicciones sobre el conjunto de datos de prueba y evaluaré la capacidad de predicción mediante la R cuadrada. Esto permitirá medir qué tan bien el modelo ajusta los datos y qué tan precisa es su capacidad de predicción en nuevas observaciones."
      ],
      "metadata": {
        "id": "_o9Zt5JolD70"
      }
    },
    {
      "cell_type": "code",
      "source": [
        "# Importamos la función para calcular el R^2\n",
        "from sklearn.metrics import r2_score\n",
        "\n",
        "# Depues se entrena el modelo\n",
        "model.fit(X_train[list(sf)], y_train)\n",
        "\n",
        "# Y se hacen predicciones sobre el conjunto de prueba\n",
        "ypred = model.predict(X_test[list(sf)])\n",
        "\n",
        "# Y por ultimo se calcula la R^2\n",
        "r2 = r2_score(y_test, ypred)\n",
        "print(\"R^2:\", r2)"
      ],
      "metadata": {
        "colab": {
          "base_uri": "https://localhost:8080/",
          "height": 0
        },
        "id": "B6r13rx0nO_c",
        "outputId": "9322a165-0081-40b2-9de1-b8f295183099"
      },
      "execution_count": 37,
      "outputs": [
        {
          "output_type": "stream",
          "name": "stdout",
          "text": [
            "R^2: 0.3713750871303617\n"
          ]
        }
      ]
    },
    {
      "cell_type": "markdown",
      "source": [
        "A continuación, realizaré el proceso de selección de características hacia atrás, comenzando con las variables seleccionadas previamente por el método de selección hacia adelante. Después, imprimiré en consola los índices de las variables que han sido seleccionadas en este nuevo proceso."
      ],
      "metadata": {
        "id": "eo_SHLb1sWPC"
      }
    },
    {
      "cell_type": "code",
      "source": [
        "# Igual que en forward pero hacia atras y con menos variables a seleccionar\n",
        "sb = SFS(model,k_features=(2,5),forward=False,floating=False,scoring='r2',cv=10)\n",
        "\n",
        "# Se ajusta el proceso de seleccion hacia atrás utilizando las características del de hacia adelante\n",
        "sb = sb.fit(X_train[list(sf)], y_train)\n",
        "\n",
        "# Se obtiene los nombres de las caracteristicas seleccionadas\n",
        "sfb = sb.k_feature_names_\n",
        "print(\"Las caracteristicas de la selccion (hacia atras) son: \\n\",sfb)\n",
        "\n",
        "# Se entrena el modelo utilizando las caracteristicas que se seleccionaron\n",
        "model.fit(X_train[list(sfb)], y_train)\n",
        "\n",
        "# Nuevamente se hacen las predicciones sobre el conjunto de prueba\n",
        "ypredb = model.predict(X_test[list(sfb)])\n",
        "\n",
        "# Se calcula el R^2\n",
        "r2 = r2_score(y_test, ypredb)\n",
        "print(\"R^2:\", r2)\n",
        "\n",
        "# Comentario sobre diferencia de R^2 de ambos modelos\n",
        "print(\"Al comparar los modelos, el que usa la selección hacia adelante parece tener un mejor desempeño, \\n\"\n",
        "      \"ya que su R^2 de 0.3058 muestra que solo explica el 30.58% de la variabilidad de lo que estamos tratando de predecir. \\n\"\n",
        "      \"Aunque ambos modelos tienen un R^2 bajo, lo que indica que no explican mucho de la variabilidad de los datos, \\n\"\n",
        "      \"el modelo de selección hacia adelante tiene un ajuste ligeramente mejor. Ninguno de los dos modelos es perfecto, \\n\"\n",
        "      \"pero el de selección hacia adelante parece entender mejor la relación entre las características y lo que queremos predecir.\")"
      ],
      "metadata": {
        "colab": {
          "base_uri": "https://localhost:8080/",
          "height": 0
        },
        "id": "-vcRL8_GuT9v",
        "outputId": "548d64b9-c5af-4430-d900-f44a95ab19ff"
      },
      "execution_count": 38,
      "outputs": [
        {
          "output_type": "stream",
          "name": "stdout",
          "text": [
            "Las caracteristicas de la selccion (hacia atras) son: \n",
            " ('acidezVolatil', 'cloruros', 'dioxidoAzufreTotal', 'sulfatos', 'alcohol')\n",
            "R^2: 0.36011479702597815\n",
            "Al comparar los modelos, el que usa la selección hacia adelante parece tener un mejor desempeño, \n",
            "ya que su R^2 de 0.3058 muestra que solo explica el 30.58% de la variabilidad de lo que estamos tratando de predecir. \n",
            "Aunque ambos modelos tienen un R^2 bajo, lo que indica que no explican mucho de la variabilidad de los datos, \n",
            "el modelo de selección hacia adelante tiene un ajuste ligeramente mejor. Ninguno de los dos modelos es perfecto, \n",
            "pero el de selección hacia adelante parece entender mejor la relación entre las características y lo que queremos predecir.\n"
          ]
        }
      ]
    }
  ]
}